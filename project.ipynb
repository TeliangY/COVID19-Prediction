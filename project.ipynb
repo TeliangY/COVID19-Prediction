{
 "cells": [
  {
   "cell_type": "markdown",
   "metadata": {},
   "source": [
    "# 1. Load dataset"
   ]
  },
  {
   "cell_type": "code",
   "execution_count": 1,
   "metadata": {},
   "outputs": [],
   "source": [
    "import pandas as pd\n",
    "import numpy as np\n",
    "import matplotlib.pyplot as plt\n",
    "import seaborn as sns\n",
    "import warnings\n",
    "\n",
    "sns.set_style('white')\n",
    "warnings.filterwarnings('ignore')"
   ]
  },
  {
   "cell_type": "code",
   "execution_count": 2,
   "metadata": {},
   "outputs": [],
   "source": [
    "train_df = pd.read_excel('cases_2021_train_processed_2.xlsx')\n",
    "test_df = pd.read_excel('cases_2021_test_processed_unlabelled_2.xlsx')"
   ]
  },
  {
   "cell_type": "markdown",
   "metadata": {},
   "source": [
    "# 2. Data investigation"
   ]
  },
  {
   "cell_type": "code",
   "execution_count": 3,
   "metadata": {},
   "outputs": [
    {
     "name": "stdout",
     "output_type": "stream",
     "text": [
      "number of rows in train_df: 17212, number of columns in train_df: 15\n",
      "number of rows in test_df: 4304, number of columns in test_df: 14\n"
     ]
    }
   ],
   "source": [
    "print(f'number of rows in train_df: {train_df.shape[0]}, number of columns in train_df: {train_df.shape[1]}')\n",
    "print(f'number of rows in test_df: {test_df.shape[0]}, number of columns in test_df: {test_df.shape[1]}')"
   ]
  },
  {
   "cell_type": "code",
   "execution_count": 4,
   "metadata": {},
   "outputs": [
    {
     "name": "stdout",
     "output_type": "stream",
     "text": [
      "<class 'pandas.core.frame.DataFrame'>\n",
      "RangeIndex: 17212 entries, 0 to 17211\n",
      "Data columns (total 15 columns):\n",
      " #   Column                  Non-Null Count  Dtype         \n",
      "---  ------                  --------------  -----         \n",
      " 0   age                     17212 non-null  float64       \n",
      " 1   sex                     17212 non-null  object        \n",
      " 2   province                13591 non-null  object        \n",
      " 3   country                 17212 non-null  object        \n",
      " 4   latitude                17212 non-null  float64       \n",
      " 5   longitude               17212 non-null  float64       \n",
      " 6   date_confirmation       17212 non-null  datetime64[ns]\n",
      " 7   chronic_disease_binary  17212 non-null  bool          \n",
      " 8   Confirmed               17212 non-null  float64       \n",
      " 9   Deaths                  17212 non-null  float64       \n",
      " 10  Recovered               17212 non-null  float64       \n",
      " 11  Active                  17212 non-null  float64       \n",
      " 12  Incident_Rate           17212 non-null  float64       \n",
      " 13  Case_Fatality_Ratio     17212 non-null  float64       \n",
      " 14  outcome_group           17212 non-null  object        \n",
      "dtypes: bool(1), datetime64[ns](1), float64(9), object(4)\n",
      "memory usage: 1.9+ MB\n"
     ]
    }
   ],
   "source": [
    "train_df.info()"
   ]
  },
  {
   "cell_type": "code",
   "execution_count": 5,
   "metadata": {},
   "outputs": [
    {
     "data": {
      "text/html": [
       "<div>\n",
       "<style scoped>\n",
       "    .dataframe tbody tr th:only-of-type {\n",
       "        vertical-align: middle;\n",
       "    }\n",
       "\n",
       "    .dataframe tbody tr th {\n",
       "        vertical-align: top;\n",
       "    }\n",
       "\n",
       "    .dataframe thead th {\n",
       "        text-align: right;\n",
       "    }\n",
       "</style>\n",
       "<table border=\"1\" class=\"dataframe\">\n",
       "  <thead>\n",
       "    <tr style=\"text-align: right;\">\n",
       "      <th></th>\n",
       "      <th>age</th>\n",
       "      <th>latitude</th>\n",
       "      <th>longitude</th>\n",
       "      <th>Confirmed</th>\n",
       "      <th>Deaths</th>\n",
       "      <th>Recovered</th>\n",
       "      <th>Active</th>\n",
       "      <th>Incident_Rate</th>\n",
       "      <th>Case_Fatality_Ratio</th>\n",
       "    </tr>\n",
       "  </thead>\n",
       "  <tbody>\n",
       "    <tr>\n",
       "      <th>count</th>\n",
       "      <td>17212.00</td>\n",
       "      <td>17212.00</td>\n",
       "      <td>17212.00</td>\n",
       "      <td>17212.00</td>\n",
       "      <td>17212.00</td>\n",
       "      <td>17212.00</td>\n",
       "      <td>17212.00</td>\n",
       "      <td>17212.00</td>\n",
       "      <td>17212.00</td>\n",
       "    </tr>\n",
       "    <tr>\n",
       "      <th>mean</th>\n",
       "      <td>37.92</td>\n",
       "      <td>15.53</td>\n",
       "      <td>87.78</td>\n",
       "      <td>753361.97</td>\n",
       "      <td>10575.75</td>\n",
       "      <td>703014.84</td>\n",
       "      <td>39771.38</td>\n",
       "      <td>985.08</td>\n",
       "      <td>1.33</td>\n",
       "    </tr>\n",
       "    <tr>\n",
       "      <th>std</th>\n",
       "      <td>18.67</td>\n",
       "      <td>5.67</td>\n",
       "      <td>18.46</td>\n",
       "      <td>294601.12</td>\n",
       "      <td>5296.79</td>\n",
       "      <td>274965.38</td>\n",
       "      <td>87197.65</td>\n",
       "      <td>527.18</td>\n",
       "      <td>0.42</td>\n",
       "    </tr>\n",
       "    <tr>\n",
       "      <th>min</th>\n",
       "      <td>0.00</td>\n",
       "      <td>-34.93</td>\n",
       "      <td>-123.10</td>\n",
       "      <td>193.00</td>\n",
       "      <td>1.00</td>\n",
       "      <td>183.00</td>\n",
       "      <td>1.00</td>\n",
       "      <td>0.77</td>\n",
       "      <td>0.05</td>\n",
       "    </tr>\n",
       "    <tr>\n",
       "      <th>25%</th>\n",
       "      <td>24.00</td>\n",
       "      <td>12.82</td>\n",
       "      <td>78.15</td>\n",
       "      <td>747288.00</td>\n",
       "      <td>12567.00</td>\n",
       "      <td>603746.00</td>\n",
       "      <td>15879.00</td>\n",
       "      <td>681.95</td>\n",
       "      <td>1.26</td>\n",
       "    </tr>\n",
       "    <tr>\n",
       "      <th>50%</th>\n",
       "      <td>35.00</td>\n",
       "      <td>13.12</td>\n",
       "      <td>80.28</td>\n",
       "      <td>886673.00</td>\n",
       "      <td>12719.00</td>\n",
       "      <td>858075.00</td>\n",
       "      <td>15879.00</td>\n",
       "      <td>1139.08</td>\n",
       "      <td>1.43</td>\n",
       "    </tr>\n",
       "    <tr>\n",
       "      <th>75%</th>\n",
       "      <td>51.00</td>\n",
       "      <td>16.20</td>\n",
       "      <td>86.40</td>\n",
       "      <td>886673.00</td>\n",
       "      <td>12719.00</td>\n",
       "      <td>858075.00</td>\n",
       "      <td>28267.00</td>\n",
       "      <td>1139.08</td>\n",
       "      <td>1.43</td>\n",
       "    </tr>\n",
       "    <tr>\n",
       "      <th>max</th>\n",
       "      <td>99.00</td>\n",
       "      <td>49.25</td>\n",
       "      <td>153.40</td>\n",
       "      <td>4611392.00</td>\n",
       "      <td>95052.00</td>\n",
       "      <td>2400727.00</td>\n",
       "      <td>4251829.00</td>\n",
       "      <td>13943.07</td>\n",
       "      <td>6.62</td>\n",
       "    </tr>\n",
       "  </tbody>\n",
       "</table>\n",
       "</div>"
      ],
      "text/plain": [
       "            age  latitude  longitude   Confirmed    Deaths   Recovered  \\\n",
       "count  17212.00  17212.00   17212.00    17212.00  17212.00    17212.00   \n",
       "mean      37.92     15.53      87.78   753361.97  10575.75   703014.84   \n",
       "std       18.67      5.67      18.46   294601.12   5296.79   274965.38   \n",
       "min        0.00    -34.93    -123.10      193.00      1.00      183.00   \n",
       "25%       24.00     12.82      78.15   747288.00  12567.00   603746.00   \n",
       "50%       35.00     13.12      80.28   886673.00  12719.00   858075.00   \n",
       "75%       51.00     16.20      86.40   886673.00  12719.00   858075.00   \n",
       "max       99.00     49.25     153.40  4611392.00  95052.00  2400727.00   \n",
       "\n",
       "           Active  Incident_Rate  Case_Fatality_Ratio  \n",
       "count    17212.00       17212.00             17212.00  \n",
       "mean     39771.38         985.08                 1.33  \n",
       "std      87197.65         527.18                 0.42  \n",
       "min          1.00           0.77                 0.05  \n",
       "25%      15879.00         681.95                 1.26  \n",
       "50%      15879.00        1139.08                 1.43  \n",
       "75%      28267.00        1139.08                 1.43  \n",
       "max    4251829.00       13943.07                 6.62  "
      ]
     },
     "execution_count": 5,
     "metadata": {},
     "output_type": "execute_result"
    }
   ],
   "source": [
    "train_df.describe().round(2)"
   ]
  },
  {
   "cell_type": "markdown",
   "metadata": {},
   "source": [
    "# 3. Data visualization"
   ]
  },
  {
   "cell_type": "code",
   "execution_count": 6,
   "metadata": {},
   "outputs": [
    {
     "data": {
      "image/png": "[encoded data removed]",
      "text/plain": [
       "<Figure size 720x576 with 1 Axes>"
      ]
     },
     "metadata": {},
     "output_type": "display_data"
    }
   ],
   "source": [
    "# label distribution\n",
    "label = train_df['outcome_group']\n",
    "label_freq = label.value_counts() / len(label)\n",
    "plt.figure(figsize=(10, 8))\n",
    "plt.pie(label_freq, labels=label_freq.index, autopct='%.1f%%', textprops={'fontsize': 15})\n",
    "plt.title('Label distribution of the training set', fontsize=20)\n",
    "plt.show()"
   ]
  },
  {
   "cell_type": "code",
   "execution_count": 7,
   "metadata": {},
   "outputs": [
    {
     "data": {
      "image/png": "[encoded data removed]",
      "text/plain": [
       "<Figure size 720x576 with 1 Axes>"
      ]
     },
     "metadata": {},
     "output_type": "display_data"
    }
   ],
   "source": [
    "# age distribution\n",
    "\n",
    "plt.figure(figsize=(10, 8))\n",
    "plt.hist(train_df['age'], bins=20)\n",
    "plt.xlabel('age', fontsize=15)\n",
    "plt.ylabel('frequency', fontsize=15)\n",
    "plt.title('Age distribution of training set', fontsize=20)\n",
    "plt.show()"
   ]
  },
  {
   "cell_type": "code",
   "execution_count": 8,
   "metadata": {},
   "outputs": [
    {
     "data": {
      "image/png": "[encoded data removed]",
      "text/plain": [
       "<Figure size 720x576 with 1 Axes>"
      ]
     },
     "metadata": {},
     "output_type": "display_data"
    }
   ],
   "source": [
    "# gender distribution\n",
    "\n",
    "gender_freq = train_df['sex'].value_counts() / len(label)\n",
    "plt.figure(figsize=(10, 8))\n",
    "plt.pie(gender_freq, labels=gender_freq.index, autopct='%.1f%%', textprops={'fontsize': 15})\n",
    "plt.title('Gender distribution of the training set', fontsize=20)\n",
    "plt.show()"
   ]
  },
  {
   "cell_type": "markdown",
   "metadata": {},
   "source": [
    "# 4. Data Preprocessing"
   ]
  },
  {
   "cell_type": "code",
   "execution_count": 9,
   "metadata": {},
   "outputs": [],
   "source": [
    "train_df = train_df.drop(columns=['province', 'chronic_disease_binary'])\n",
    "test_df = test_df.drop(columns=['province', 'chronic_disease_binary'])"
   ]
  },
  {
   "cell_type": "code",
   "execution_count": 10,
   "metadata": {},
   "outputs": [
    {
     "data": {
      "text/html": [
       "<div>\n",
       "<style scoped>\n",
       "    .dataframe tbody tr th:only-of-type {\n",
       "        vertical-align: middle;\n",
       "    }\n",
       "\n",
       "    .dataframe tbody tr th {\n",
       "        vertical-align: top;\n",
       "    }\n",
       "\n",
       "    .dataframe thead th {\n",
       "        text-align: right;\n",
       "    }\n",
       "</style>\n",
       "<table border=\"1\" class=\"dataframe\">\n",
       "  <thead>\n",
       "    <tr style=\"text-align: right;\">\n",
       "      <th></th>\n",
       "      <th>age</th>\n",
       "      <th>sex</th>\n",
       "      <th>country</th>\n",
       "      <th>latitude</th>\n",
       "      <th>longitude</th>\n",
       "      <th>date_confirmation</th>\n",
       "      <th>Confirmed</th>\n",
       "      <th>Deaths</th>\n",
       "      <th>Recovered</th>\n",
       "      <th>Active</th>\n",
       "      <th>Incident_Rate</th>\n",
       "      <th>Case_Fatality_Ratio</th>\n",
       "      <th>outcome_group</th>\n",
       "    </tr>\n",
       "  </thead>\n",
       "  <tbody>\n",
       "    <tr>\n",
       "      <th>0</th>\n",
       "      <td>18.0</td>\n",
       "      <td>female</td>\n",
       "      <td>India</td>\n",
       "      <td>25.490960</td>\n",
       "      <td>85.939030</td>\n",
       "      <td>2020-05-18</td>\n",
       "      <td>265527.0</td>\n",
       "      <td>1576.0</td>\n",
       "      <td>262371.0</td>\n",
       "      <td>1580.0</td>\n",
       "      <td>212.762145</td>\n",
       "      <td>0.593537</td>\n",
       "      <td>hospitalized</td>\n",
       "    </tr>\n",
       "    <tr>\n",
       "      <th>1</th>\n",
       "      <td>27.0</td>\n",
       "      <td>female</td>\n",
       "      <td>Philippines</td>\n",
       "      <td>7.070000</td>\n",
       "      <td>125.600000</td>\n",
       "      <td>2020-04-15</td>\n",
       "      <td>747288.0</td>\n",
       "      <td>13297.0</td>\n",
       "      <td>603746.0</td>\n",
       "      <td>130245.0</td>\n",
       "      <td>681.949809</td>\n",
       "      <td>1.779368</td>\n",
       "      <td>nonhospitalized</td>\n",
       "    </tr>\n",
       "    <tr>\n",
       "      <th>2</th>\n",
       "      <td>46.0</td>\n",
       "      <td>male</td>\n",
       "      <td>India</td>\n",
       "      <td>13.083620</td>\n",
       "      <td>80.282520</td>\n",
       "      <td>2020-05-02</td>\n",
       "      <td>886673.0</td>\n",
       "      <td>12719.0</td>\n",
       "      <td>858075.0</td>\n",
       "      <td>15879.0</td>\n",
       "      <td>1139.078325</td>\n",
       "      <td>1.434463</td>\n",
       "      <td>hospitalized</td>\n",
       "    </tr>\n",
       "    <tr>\n",
       "      <th>3</th>\n",
       "      <td>21.0</td>\n",
       "      <td>female</td>\n",
       "      <td>India</td>\n",
       "      <td>13.083620</td>\n",
       "      <td>80.282520</td>\n",
       "      <td>2020-05-24</td>\n",
       "      <td>886673.0</td>\n",
       "      <td>12719.0</td>\n",
       "      <td>858075.0</td>\n",
       "      <td>15879.0</td>\n",
       "      <td>1139.078325</td>\n",
       "      <td>1.434463</td>\n",
       "      <td>hospitalized</td>\n",
       "    </tr>\n",
       "    <tr>\n",
       "      <th>4</th>\n",
       "      <td>27.0</td>\n",
       "      <td>male</td>\n",
       "      <td>India</td>\n",
       "      <td>26.283610</td>\n",
       "      <td>87.203470</td>\n",
       "      <td>2020-05-27</td>\n",
       "      <td>265527.0</td>\n",
       "      <td>1576.0</td>\n",
       "      <td>262371.0</td>\n",
       "      <td>1580.0</td>\n",
       "      <td>212.762145</td>\n",
       "      <td>0.593537</td>\n",
       "      <td>hospitalized</td>\n",
       "    </tr>\n",
       "    <tr>\n",
       "      <th>...</th>\n",
       "      <td>...</td>\n",
       "      <td>...</td>\n",
       "      <td>...</td>\n",
       "      <td>...</td>\n",
       "      <td>...</td>\n",
       "      <td>...</td>\n",
       "      <td>...</td>\n",
       "      <td>...</td>\n",
       "      <td>...</td>\n",
       "      <td>...</td>\n",
       "      <td>...</td>\n",
       "      <td>...</td>\n",
       "      <td>...</td>\n",
       "    </tr>\n",
       "    <tr>\n",
       "      <th>4299</th>\n",
       "      <td>66.0</td>\n",
       "      <td>male</td>\n",
       "      <td>India</td>\n",
       "      <td>13.000000</td>\n",
       "      <td>77.583330</td>\n",
       "      <td>2020-04-09</td>\n",
       "      <td>997004.0</td>\n",
       "      <td>12567.0</td>\n",
       "      <td>956170.0</td>\n",
       "      <td>28267.0</td>\n",
       "      <td>1475.672533</td>\n",
       "      <td>1.260476</td>\n",
       "      <td>NaN</td>\n",
       "    </tr>\n",
       "    <tr>\n",
       "      <th>4300</th>\n",
       "      <td>66.0</td>\n",
       "      <td>male</td>\n",
       "      <td>Philippines</td>\n",
       "      <td>14.595800</td>\n",
       "      <td>120.977200</td>\n",
       "      <td>2020-03-31</td>\n",
       "      <td>747288.0</td>\n",
       "      <td>13297.0</td>\n",
       "      <td>603746.0</td>\n",
       "      <td>130245.0</td>\n",
       "      <td>681.949809</td>\n",
       "      <td>1.779368</td>\n",
       "      <td>NaN</td>\n",
       "    </tr>\n",
       "    <tr>\n",
       "      <th>4301</th>\n",
       "      <td>53.0</td>\n",
       "      <td>female</td>\n",
       "      <td>India</td>\n",
       "      <td>12.682240</td>\n",
       "      <td>79.980080</td>\n",
       "      <td>2020-05-12</td>\n",
       "      <td>886673.0</td>\n",
       "      <td>12719.0</td>\n",
       "      <td>858075.0</td>\n",
       "      <td>15879.0</td>\n",
       "      <td>1139.078325</td>\n",
       "      <td>1.434463</td>\n",
       "      <td>NaN</td>\n",
       "    </tr>\n",
       "    <tr>\n",
       "      <th>4302</th>\n",
       "      <td>25.0</td>\n",
       "      <td>male</td>\n",
       "      <td>India</td>\n",
       "      <td>13.160185</td>\n",
       "      <td>80.297689</td>\n",
       "      <td>2020-05-27</td>\n",
       "      <td>886673.0</td>\n",
       "      <td>12719.0</td>\n",
       "      <td>858075.0</td>\n",
       "      <td>15879.0</td>\n",
       "      <td>1139.078325</td>\n",
       "      <td>1.434463</td>\n",
       "      <td>NaN</td>\n",
       "    </tr>\n",
       "    <tr>\n",
       "      <th>4303</th>\n",
       "      <td>34.0</td>\n",
       "      <td>male</td>\n",
       "      <td>India</td>\n",
       "      <td>13.335010</td>\n",
       "      <td>74.749360</td>\n",
       "      <td>2020-05-27</td>\n",
       "      <td>997004.0</td>\n",
       "      <td>12567.0</td>\n",
       "      <td>956170.0</td>\n",
       "      <td>28267.0</td>\n",
       "      <td>1475.672533</td>\n",
       "      <td>1.260476</td>\n",
       "      <td>NaN</td>\n",
       "    </tr>\n",
       "  </tbody>\n",
       "</table>\n",
       "<p>21516 rows × 13 columns</p>\n",
       "</div>"
      ],
      "text/plain": [
       "       age     sex      country   latitude   longitude date_confirmation  \\\n",
       "0     18.0  female        India  25.490960   85.939030        2020-05-18   \n",
       "1     27.0  female  Philippines   7.070000  125.600000        2020-04-15   \n",
       "2     46.0    male        India  13.083620   80.282520        2020-05-02   \n",
       "3     21.0  female        India  13.083620   80.282520        2020-05-24   \n",
       "4     27.0    male        India  26.283610   87.203470        2020-05-27   \n",
       "...    ...     ...          ...        ...         ...               ...   \n",
       "4299  66.0    male        India  13.000000   77.583330        2020-04-09   \n",
       "4300  66.0    male  Philippines  14.595800  120.977200        2020-03-31   \n",
       "4301  53.0  female        India  12.682240   79.980080        2020-05-12   \n",
       "4302  25.0    male        India  13.160185   80.297689        2020-05-27   \n",
       "4303  34.0    male        India  13.335010   74.749360        2020-05-27   \n",
       "\n",
       "      Confirmed   Deaths  Recovered    Active  Incident_Rate  \\\n",
       "0      265527.0   1576.0   262371.0    1580.0     212.762145   \n",
       "1      747288.0  13297.0   603746.0  130245.0     681.949809   \n",
       "2      886673.0  12719.0   858075.0   15879.0    1139.078325   \n",
       "3      886673.0  12719.0   858075.0   15879.0    1139.078325   \n",
       "4      265527.0   1576.0   262371.0    1580.0     212.762145   \n",
       "...         ...      ...        ...       ...            ...   \n",
       "4299   997004.0  12567.0   956170.0   28267.0    1475.672533   \n",
       "4300   747288.0  13297.0   603746.0  130245.0     681.949809   \n",
       "4301   886673.0  12719.0   858075.0   15879.0    1139.078325   \n",
       "4302   886673.0  12719.0   858075.0   15879.0    1139.078325   \n",
       "4303   997004.0  12567.0   956170.0   28267.0    1475.672533   \n",
       "\n",
       "      Case_Fatality_Ratio    outcome_group  \n",
       "0                0.593537     hospitalized  \n",
       "1                1.779368  nonhospitalized  \n",
       "2                1.434463     hospitalized  \n",
       "3                1.434463     hospitalized  \n",
       "4                0.593537     hospitalized  \n",
       "...                   ...              ...  \n",
       "4299             1.260476              NaN  \n",
       "4300             1.779368              NaN  \n",
       "4301             1.434463              NaN  \n",
       "4302             1.434463              NaN  \n",
       "4303             1.260476              NaN  \n",
       "\n",
       "[21516 rows x 13 columns]"
      ]
     },
     "execution_count": 10,
     "metadata": {},
     "output_type": "execute_result"
    }
   ],
   "source": [
    "all_df = pd.concat((train_df, test_df), axis=0)\n",
    "all_df"
   ]
  },
  {
   "cell_type": "code",
   "execution_count": 11,
   "metadata": {},
   "outputs": [],
   "source": [
    "from sklearn.preprocessing import LabelEncoder\n",
    "\n",
    "le = LabelEncoder()\n",
    "all_df['sex'] = le.fit_transform(all_df['sex'])\n",
    "\n",
    "le = LabelEncoder()\n",
    "all_df['country'] = le.fit_transform(all_df['country'])\n",
    "\n",
    "all_df['month'] = all_df['date_confirmation'].apply(lambda x: x.month)\n",
    "all_df['day'] = all_df['date_confirmation'].apply(lambda x: x.day)\n",
    "all_df = all_df.drop(columns=['date_confirmation'])\n",
    "\n",
    "train_df, test_df = all_df.iloc[:len(train_df)], all_df.iloc[len(train_df):]\n",
    "train_df['outcome_group'] = train_df['outcome_group'].map({'deceased': 0, 'hospitalized': 1, 'nonhospitalized': 2})\n",
    "test_df = test_df.drop(columns=['outcome_group'])"
   ]
  },
  {
   "cell_type": "code",
   "execution_count": 12,
   "metadata": {},
   "outputs": [],
   "source": [
    "from sklearn.preprocessing import StandardScaler\n",
    "\n",
    "X_train, y_train = train_df.loc[:, train_df.columns != 'outcome_group'], train_df['outcome_group']\n",
    "X_test = test_df.loc[:, test_df.columns != 'outcome_group']\n",
    "\n",
    "scaler = StandardScaler()\n",
    "X_train = scaler.fit_transform(X_train)\n",
    "X_test = scaler.transform(X_test)"
   ]
  },
  {
   "cell_type": "code",
   "execution_count": 13,
   "metadata": {},
   "outputs": [
    {
     "data": {
      "text/plain": [
       "hospitalized       13241\n",
       "nonhospitalized     2974\n",
       "deceased             997\n",
       "Name: outcome_group, dtype: int64"
      ]
     },
     "execution_count": 13,
     "metadata": {},
     "output_type": "execute_result"
    }
   ],
   "source": [
    "all_df['outcome_group'].value_counts()"
   ]
  },
  {
   "cell_type": "code",
   "execution_count": 14,
   "metadata": {},
   "outputs": [
    {
     "data": {
      "text/plain": [
       "1    13241\n",
       "2    13241\n",
       "0    13241\n",
       "Name: outcome_group, dtype: int64"
      ]
     },
     "execution_count": 14,
     "metadata": {},
     "output_type": "execute_result"
    }
   ],
   "source": [
    "# resampling\n",
    "from imblearn.over_sampling import RandomOverSampler\n",
    "ros = RandomOverSampler(sampling_strategy='all')\n",
    "X_train_rs, y_train_rs = ros.fit_resample(X_train, y_train)\n",
    "\n",
    "y_train_rs.value_counts()"
   ]
  },
  {
   "cell_type": "markdown",
   "metadata": {},
   "source": [
    "# 5. Models"
   ]
  },
  {
   "cell_type": "markdown",
   "metadata": {},
   "source": [
    "## 5.1 Decision tree"
   ]
  },
  {
   "cell_type": "code",
   "execution_count": 15,
   "metadata": {},
   "outputs": [
    {
     "name": "stdout",
     "output_type": "stream",
     "text": [
      "Mean macro F1-score across the validation sets: \n"
     ]
    },
    {
     "data": {
      "text/plain": [
       "{(1, 1): 0.5156089648150941,\n",
       " (1, 5): 0.5156089648150941,\n",
       " (1, 10): 0.5156089648150941,\n",
       " (1, 20): 0.5156089648150941,\n",
       " (2, 1): 0.7450223412516468,\n",
       " (2, 5): 0.7450223412516468,\n",
       " (2, 10): 0.7450223412516468,\n",
       " (2, 20): 0.7450223412516468,\n",
       " (5, 1): 0.7905938201368586,\n",
       " (5, 5): 0.79044451069332,\n",
       " (5, 10): 0.7902262167518674,\n",
       " (5, 20): 0.790173527060549,\n",
       " (10, 1): 0.8579932992049264,\n",
       " (10, 5): 0.8557204194807863,\n",
       " (10, 10): 0.8505149511337546,\n",
       " (10, 20): 0.8432980633398607,\n",
       " (13, 1): 0.9052284597277144,\n",
       " (13, 5): 0.8988013885038233,\n",
       " (13, 10): 0.8827110717919677,\n",
       " (13, 20): 0.8647210116899471}"
      ]
     },
     "execution_count": 15,
     "metadata": {},
     "output_type": "execute_result"
    }
   ],
   "source": [
    "import itertools\n",
    "from sklearn.model_selection import GridSearchCV\n",
    "from sklearn.tree import DecisionTreeClassifier\n",
    "\n",
    "params = {'max_depth': [1, 2, 5, 10, 13],\n",
    "          'min_samples_leaf': [1, 5, 10, 20]}\n",
    "dt = DecisionTreeClassifier()\n",
    "grid_cv = GridSearchCV(dt, param_grid=params, cv=5, scoring='f1_macro')\n",
    "grid_cv.fit(X_train_rs, y_train_rs)\n",
    "print('Mean macro F1-score across the validation sets: ')\n",
    "dict(zip(list(itertools.product(params['max_depth'], params['min_samples_leaf'])), grid_cv.cv_results_['mean_test_score'].tolist()))"
   ]
  },
  {
   "cell_type": "code",
   "execution_count": 16,
   "metadata": {},
   "outputs": [
    {
     "name": "stdout",
     "output_type": "stream",
     "text": [
      "Mean macro decresed F1-score across the validation sets: \n"
     ]
    },
    {
     "data": {
      "text/plain": [
       "{(1, 1): 0.0,\n",
       " (1, 5): 0.0,\n",
       " (1, 10): 0.0,\n",
       " (1, 20): 0.0,\n",
       " (2, 1): 0.6508443930076439,\n",
       " (2, 5): 0.6508443930076439,\n",
       " (2, 10): 0.6508443930076439,\n",
       " (2, 20): 0.6508443930076439,\n",
       " (5, 1): 0.6829599456454403,\n",
       " (5, 5): 0.6828757174800177,\n",
       " (5, 10): 0.6827125535776071,\n",
       " (5, 20): 0.6826283934636732,\n",
       " (10, 1): 0.7954178369042658,\n",
       " (10, 5): 0.7942989204363963,\n",
       " (10, 10): 0.7874366339517301,\n",
       " (10, 20): 0.7761714693092553,\n",
       " (13, 1): 0.8628343426575226,\n",
       " (13, 5): 0.8562274618835201,\n",
       " (13, 10): 0.8349309822183775,\n",
       " (13, 20): 0.8074149790050908}"
      ]
     },
     "execution_count": 16,
     "metadata": {},
     "output_type": "execute_result"
    }
   ],
   "source": [
    "from sklearn.model_selection import StratifiedKFold\n",
    "from sklearn.metrics import f1_score\n",
    "\n",
    "cv_results = []\n",
    "\n",
    "for max_depth in params['max_depth']:\n",
    "    for min_samples_leaf in params['min_samples_leaf']:\n",
    "        dt = DecisionTreeClassifier(max_depth=max_depth, min_samples_leaf=min_samples_leaf)\n",
    "        kf = StratifiedKFold(n_splits=5)\n",
    "\n",
    "        avg_decreased_f1 = 0\n",
    "\n",
    "        for train_index, test_index in kf.split(X_train_rs, y_train_rs):\n",
    "            X_train, X_val = X_train_rs[train_index], X_train_rs[test_index]\n",
    "            y_train, y_val = y_train_rs[train_index], y_train_rs[test_index]\n",
    "\n",
    "            dt.fit(X_train, y_train)\n",
    "            y_pred = dt.predict(X_val)\n",
    "            decreased_f1 = f1_score(y_val, y_pred, average=None)[0]\n",
    "\n",
    "            avg_decreased_f1 += decreased_f1\n",
    "        avg_decreased_f1 = avg_decreased_f1 / 5\n",
    "        cv_results.append(avg_decreased_f1)\n",
    "\n",
    "print('Mean macro decresed F1-score across the validation sets: ')\n",
    "dict(zip(list(itertools.product(params['max_depth'], params['min_samples_leaf'])), cv_results))"
   ]
  },
  {
   "cell_type": "code",
   "execution_count": 18,
   "metadata": {},
   "outputs": [
    {
     "name": "stdout",
     "output_type": "stream",
     "text": [
      "Mean macro F1-score across the validation sets: \n"
     ]
    },
    {
     "data": {
      "text/plain": [
       "{(1, 1): 0.6361553467095343,\n",
       " (1, 5): 0.6361553467095343,\n",
       " (1, 10): 0.6361553467095343,\n",
       " (1, 20): 0.6361553467095343,\n",
       " (2, 1): 0.7529139248496557,\n",
       " (2, 5): 0.7529139248496557,\n",
       " (2, 10): 0.7529139248496557,\n",
       " (2, 20): 0.7529139248496557,\n",
       " (5, 1): 0.7957605789297898,\n",
       " (5, 5): 0.7956095373720512,\n",
       " (5, 10): 0.795382970282221,\n",
       " (5, 20): 0.7953074479189443,\n",
       " (10, 1): 0.8584198673280617,\n",
       " (10, 5): 0.8562548791825979,\n",
       " (10, 10): 0.8510186408699791,\n",
       " (10, 20): 0.8438187545670545,\n",
       " (13, 1): 0.9047907441454562,\n",
       " (13, 5): 0.898522330954821,\n",
       " (13, 10): 0.8827381316794654,\n",
       " (13, 20): 0.8649399763099405}"
      ]
     },
     "execution_count": 18,
     "metadata": {},
     "output_type": "execute_result"
    }
   ],
   "source": [
    "params = {'max_depth': [1, 2, 5, 10, 13],\n",
    "          'min_samples_leaf': [1, 5, 10, 20]}\n",
    "dt = DecisionTreeClassifier()\n",
    "grid_cv = GridSearchCV(dt, param_grid=params, cv=5, scoring='accuracy')\n",
    "grid_cv.fit(X_train_rs, y_train_rs)\n",
    "print('Mean macro F1-score across the validation sets: ')\n",
    "dict(zip(list(itertools.product(params['max_depth'], params['min_samples_leaf'])), grid_cv.cv_results_['mean_test_score'].tolist()))"
   ]
  },
  {
   "cell_type": "markdown",
   "metadata": {},
   "source": [
    "## 5.2 KNN"
   ]
  },
  {
   "cell_type": "code",
   "execution_count": 23,
   "metadata": {},
   "outputs": [
    {
     "name": "stdout",
     "output_type": "stream",
     "text": [
      "Mean macro F1-score across the validation sets: \n"
     ]
    },
    {
     "data": {
      "text/plain": [
       "{1: 0.9797130212584836,\n",
       " 3: 0.978151456527668,\n",
       " 5: 0.9645429083445979,\n",
       " 9: 0.9343980606369013,\n",
       " 11: 0.9211673423940692,\n",
       " 15: 0.8946634403485494,\n",
       " 25: 0.8558065447429545,\n",
       " 49: 0.8264544527587908,\n",
       " 99: 0.8077579693641794}"
      ]
     },
     "execution_count": 23,
     "metadata": {},
     "output_type": "execute_result"
    }
   ],
   "source": [
    "from sklearn.model_selection import GridSearchCV\n",
    "from sklearn.neighbors import KNeighborsClassifier\n",
    "\n",
    "params = {'n_neighbors': [1, 3, 5, 9, 11, 15, 25, 49, 99]}\n",
    "knn = KNeighborsClassifier()\n",
    "grid_cv = GridSearchCV(knn, param_grid=params, cv=5, scoring='f1_macro')\n",
    "grid_cv.fit(X_train_rs, y_train_rs)\n",
    "print('Mean macro F1-score across the validation sets: ')\n",
    "dict(zip(params['n_neighbors'], grid_cv.cv_results_['mean_test_score'].tolist()))"
   ]
  },
  {
   "cell_type": "code",
   "execution_count": 24,
   "metadata": {},
   "outputs": [
    {
     "name": "stdout",
     "output_type": "stream",
     "text": [
      "Mean macro decreased F1-score across the validation sets: \n"
     ]
    },
    {
     "data": {
      "text/plain": [
       "{1: 0.9719289054545326,\n",
       " 3: 0.9711887939972556,\n",
       " 5: 0.9533977176367197,\n",
       " 9: 0.914133744917225,\n",
       " 11: 0.8967057205657472,\n",
       " 15: 0.8613501709660006,\n",
       " 25: 0.7978770669395187,\n",
       " 49: 0.7500998194868821,\n",
       " 99: 0.719156398328285}"
      ]
     },
     "execution_count": 24,
     "metadata": {},
     "output_type": "execute_result"
    }
   ],
   "source": [
    "from sklearn.model_selection import StratifiedKFold\n",
    "from sklearn.metrics import f1_score\n",
    "\n",
    "cv_results = []\n",
    "\n",
    "for n_neighbors in params['n_neighbors']:\n",
    "    knn = KNeighborsClassifier(n_neighbors=n_neighbors)\n",
    "    kf = StratifiedKFold(n_splits=5)\n",
    "    \n",
    "    avg_decreased_f1 = 0\n",
    "    \n",
    "    for train_index, test_index in kf.split(X_train_rs, y_train_rs):\n",
    "        X_train, X_val = X_train_rs[train_index], X_train_rs[test_index]\n",
    "        y_train, y_val = y_train_rs[train_index], y_train_rs[test_index]\n",
    "        \n",
    "        knn.fit(X_train, y_train)\n",
    "        y_pred = knn.predict(X_val)\n",
    "        decreased_f1 = f1_score(y_val, y_pred, average=None)[0]\n",
    "        \n",
    "        avg_decreased_f1 += decreased_f1\n",
    "    avg_decreased_f1 = avg_decreased_f1 / 5\n",
    "    cv_results.append(avg_decreased_f1)\n",
    "\n",
    "print('Mean macro decreased F1-score across the validation sets: ')\n",
    "dict(zip(params['n_neighbors'], cv_results))"
   ]
  },
  {
   "cell_type": "code",
   "execution_count": 25,
   "metadata": {
    "scrolled": true
   },
   "outputs": [
    {
     "name": "stdout",
     "output_type": "stream",
     "text": [
      "Mean macro F1-score across the validation sets: \n"
     ]
    },
    {
     "data": {
      "text/plain": [
       "{1: 0.9796843353442632,\n",
       " 3: 0.9780480195858106,\n",
       " 5: 0.9642777478852913,\n",
       " 9: 0.9336405055653895,\n",
       " 11: 0.9201218472669289,\n",
       " 15: 0.8931852863055866,\n",
       " 25: 0.8550462013198749,\n",
       " 49: 0.8269767605459741,\n",
       " 99: 0.8098330541607488}"
      ]
     },
     "execution_count": 25,
     "metadata": {},
     "output_type": "execute_result"
    }
   ],
   "source": [
    "params = {'n_neighbors': [1, 3, 5, 9, 11, 15, 25, 49, 99]}\n",
    "knn = KNeighborsClassifier()\n",
    "grid_cv = GridSearchCV(knn, param_grid=params, cv=5, scoring='accuracy')\n",
    "grid_cv.fit(X_train_rs, y_train_rs)\n",
    "print('Mean macro F1-score across the validation sets: ')\n",
    "dict(zip(params['n_neighbors'], grid_cv.cv_results_['mean_test_score'].tolist()))"
   ]
  },
  {
   "cell_type": "markdown",
   "metadata": {},
   "source": [
    "## 5.3 Random forest"
   ]
  },
  {
   "cell_type": "code",
   "execution_count": 19,
   "metadata": {},
   "outputs": [
    {
     "name": "stdout",
     "output_type": "stream",
     "text": [
      "Mean macro F1-score across the validation sets: \n"
     ]
    },
    {
     "data": {
      "text/plain": [
       "{(1, 1): 0.5213100936729667,\n",
       " (1, 5): 0.5254627891240751,\n",
       " (1, 10): 0.5231175863858766,\n",
       " (1, 20): 0.5192476693021411,\n",
       " (2, 1): 0.6553097115773231,\n",
       " (2, 5): 0.6518719138122504,\n",
       " (2, 10): 0.6821181597305224,\n",
       " (2, 20): 0.6986049247492829,\n",
       " (5, 1): 0.7959466166557488,\n",
       " (5, 5): 0.7942672009837859,\n",
       " (5, 10): 0.7937068544150752,\n",
       " (5, 20): 0.7940581782323973,\n",
       " (10, 1): 0.8647728506999206,\n",
       " (10, 5): 0.8570062323390971,\n",
       " (10, 10): 0.850428547652276,\n",
       " (10, 20): 0.8376446091769421,\n",
       " (13, 1): 0.9234128073937052,\n",
       " (13, 5): 0.9059747488783174,\n",
       " (13, 10): 0.8876217328507326,\n",
       " (13, 20): 0.8604636361007703}"
      ]
     },
     "execution_count": 19,
     "metadata": {},
     "output_type": "execute_result"
    }
   ],
   "source": [
    "from sklearn.model_selection import GridSearchCV\n",
    "from sklearn.ensemble import RandomForestClassifier\n",
    "\n",
    "params = {'max_depth': [1, 2, 5, 10, 13],\n",
    "          'min_samples_leaf': [1, 5, 10, 20]}\n",
    "rf = RandomForestClassifier()\n",
    "grid_cv = GridSearchCV(rf, param_grid=params, cv=5, scoring='f1_macro')\n",
    "grid_cv.fit(X_train_rs, y_train_rs)\n",
    "print('Mean macro F1-score across the validation sets: ')\n",
    "dict(zip(list(itertools.product(params['max_depth'], params['min_samples_leaf'])), grid_cv.cv_results_['mean_test_score'].tolist()))"
   ]
  },
  {
   "cell_type": "code",
   "execution_count": 20,
   "metadata": {},
   "outputs": [
    {
     "name": "stdout",
     "output_type": "stream",
     "text": [
      "Mean macro decresed F1-score across the validation sets: \n"
     ]
    },
    {
     "data": {
      "text/plain": [
       "{(1, 1): 0.011337282675102906,\n",
       " (1, 5): 0.017873751363679052,\n",
       " (1, 10): 0.026661841287122356,\n",
       " (1, 20): 0.036815471057385654,\n",
       " (2, 1): 0.3339419733583048,\n",
       " (2, 5): 0.3605420195172051,\n",
       " (2, 10): 0.39416285367532417,\n",
       " (2, 20): 0.3954012545377965,\n",
       " (5, 1): 0.7000331762401866,\n",
       " (5, 5): 0.7022331818443226,\n",
       " (5, 10): 0.7000776267897646,\n",
       " (5, 20): 0.6985466869222124,\n",
       " (10, 1): 0.7951358845012687,\n",
       " (10, 5): 0.7877498174735788,\n",
       " (10, 10): 0.7767884130137224,\n",
       " (10, 20): 0.7576525619259481,\n",
       " (13, 1): 0.8853290342435095,\n",
       " (13, 5): 0.8623309352066706,\n",
       " (13, 10): 0.8311983161017471,\n",
       " (13, 20): 0.7922331253425912}"
      ]
     },
     "execution_count": 20,
     "metadata": {},
     "output_type": "execute_result"
    }
   ],
   "source": [
    "from sklearn.model_selection import StratifiedKFold\n",
    "from sklearn.metrics import f1_score\n",
    "\n",
    "cv_results = []\n",
    "\n",
    "for max_depth in params['max_depth']:\n",
    "    for min_samples_leaf in params['min_samples_leaf']:\n",
    "        rf = RandomForestClassifier(max_depth=max_depth, min_samples_leaf=min_samples_leaf)\n",
    "        kf = StratifiedKFold(n_splits=5)\n",
    "\n",
    "        avg_decreased_f1 = 0\n",
    "\n",
    "        for train_index, test_index in kf.split(X_train_rs, y_train_rs):\n",
    "            X_train, X_val = X_train_rs[train_index], X_train_rs[test_index]\n",
    "            y_train, y_val = y_train_rs[train_index], y_train_rs[test_index]\n",
    "\n",
    "            rf.fit(X_train, y_train)\n",
    "            y_pred = rf.predict(X_val)\n",
    "            decreased_f1 = f1_score(y_val, y_pred, average=None)[0]\n",
    "\n",
    "            avg_decreased_f1 += decreased_f1\n",
    "        avg_decreased_f1 = avg_decreased_f1 / 5\n",
    "        cv_results.append(avg_decreased_f1)\n",
    "\n",
    "print('Mean macro decresed F1-score across the validation sets: ')\n",
    "dict(zip(list(itertools.product(params['max_depth'], params['min_samples_leaf'])), cv_results))"
   ]
  },
  {
   "cell_type": "code",
   "execution_count": 21,
   "metadata": {
    "scrolled": false
   },
   "outputs": [
    {
     "name": "stdout",
     "output_type": "stream",
     "text": [
      "Mean macro F1-score across the validation sets: \n"
     ]
    },
    {
     "data": {
      "text/plain": [
       "{(1, 1): 0.6418950685002697,\n",
       " (1, 5): 0.641769260214833,\n",
       " (1, 10): 0.6407119566354031,\n",
       " (1, 20): 0.6413159232310249,\n",
       " (2, 1): 0.7101931075742913,\n",
       " (2, 5): 0.714724468383784,\n",
       " (2, 10): 0.7180731292743351,\n",
       " (2, 20): 0.7145993857569379,\n",
       " (5, 1): 0.7999396055586082,\n",
       " (5, 5): 0.8002416348042338,\n",
       " (5, 10): 0.7995116824695462,\n",
       " (5, 20): 0.7985550141107323,\n",
       " (10, 1): 0.865242008724381,\n",
       " (10, 5): 0.8577650254107259,\n",
       " (10, 10): 0.8503889656798345,\n",
       " (10, 20): 0.8388590967483524,\n",
       " (13, 1): 0.9242254117399519,\n",
       " (13, 5): 0.9074592347819254,\n",
       " (13, 10): 0.8852303886804865,\n",
       " (13, 20): 0.8616671039631099}"
      ]
     },
     "execution_count": 21,
     "metadata": {},
     "output_type": "execute_result"
    }
   ],
   "source": [
    "params = {'max_depth': [1, 2, 5, 10, 13],\n",
    "          'min_samples_leaf': [1, 5, 10, 20]}\n",
    "rf = RandomForestClassifier()\n",
    "grid_cv = GridSearchCV(rf, param_grid=params, cv=5, scoring='accuracy')\n",
    "grid_cv.fit(X_train_rs, y_train_rs)\n",
    "print('Overall accuracy across the validation sets: ')\n",
    "dict(zip(list(itertools.product(params['max_depth'], params['min_samples_leaf'])), grid_cv.cv_results_['mean_test_score'].tolist()))"
   ]
  },
  {
   "cell_type": "markdown",
   "metadata": {},
   "source": [
    "# 6. Prediction"
   ]
  },
  {
   "cell_type": "code",
   "execution_count": 23,
   "metadata": {},
   "outputs": [
    {
     "data": {
      "text/plain": [
       "GridSearchCV(cv=5, estimator=KNeighborsClassifier(),\n",
       "             param_grid={'n_neighbors': [1, 3, 5, 9, 11, 15, 25, 49, 99]},\n",
       "             scoring='f1_macro')"
      ]
     },
     "execution_count": 23,
     "metadata": {},
     "output_type": "execute_result"
    }
   ],
   "source": [
    "from sklearn.neighbors import KNeighborsClassifier\n",
    "\n",
    "params = {'n_neighbors': [1, 3, 5, 9, 11, 15, 25, 49, 99]}\n",
    "knn = KNeighborsClassifier()\n",
    "grid_cv = GridSearchCV(knn, param_grid=params, cv=5, scoring='f1_macro')\n",
    "grid_cv.fit(X_train_rs, y_train_rs)"
   ]
  },
  {
   "cell_type": "code",
   "execution_count": 24,
   "metadata": {},
   "outputs": [
    {
     "data": {
      "text/plain": [
       "hospitalized       3318\n",
       "nonhospitalized     699\n",
       "deceased            287\n",
       "dtype: int64"
      ]
     },
     "execution_count": 24,
     "metadata": {},
     "output_type": "execute_result"
    }
   ],
   "source": [
    "best_model = grid_cv.best_estimator_\n",
    "y_preds = best_model.predict(X_test)\n",
    "y_preds = pd.Series(y_preds).map({0: 'deceased', 1: 'hospitalized', 2: 'nonhospitalized'})\n",
    "y_preds.value_counts()"
   ]
  },
  {
   "cell_type": "code",
   "execution_count": 60,
   "metadata": {},
   "outputs": [],
   "source": [
    "import csv\n",
    "\n",
    "def create_submission_file(y_preds, file_name): \n",
    "    with open(file_name, 'w') as csvfile:\n",
    "        wr = csv.writer(csvfile, quoting=csv.QUOTE_ALL) \n",
    "        wr.writerow([\"Id\", \"Prediction\"])\n",
    "        for i, pred in enumerate(y_preds):\n",
    "            wr.writerow([str(i), str(pred)])\n",
    "create_submission_file(y_preds, 'submission_knn.csv')"
   ]
  }
 ],
 "metadata": {
  "kernelspec": {
   "display_name": "Python 3",
   "language": "python",
   "name": "python3"
  },
  "language_info": {
   "codemirror_mode": {
    "name": "ipython",
    "version": 3
   },
   "file_extension": ".py",
   "mimetype": "text/x-python",
   "name": "python",
   "nbconvert_exporter": "python",
   "pygments_lexer": "ipython3",
   "version": "3.7.7"
  }
 },
 "nbformat": 4,
 "nbformat_minor": 4
}
